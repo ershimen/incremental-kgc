{
 "cells": [
  {
   "attachments": {},
   "cell_type": "markdown",
   "metadata": {},
   "source": [
    "### no-inc"
   ]
  },
  {
   "cell_type": "code",
   "execution_count": 1,
   "metadata": {},
   "outputs": [],
   "source": [
    "import re"
   ]
  },
  {
   "cell_type": "code",
   "execution_count": 219,
   "metadata": {},
   "outputs": [],
   "source": [
    "with open('test-rdfizer-opt.py-50.out', 'r') as f:\n",
    "    lines = f.readlines()"
   ]
  },
  {
   "cell_type": "code",
   "execution_count": 220,
   "metadata": {},
   "outputs": [],
   "source": [
    "#m = re.findall(\"((Loaded new graph in )|(Finished updating graph in ))(?P<time>\\d+\\.\\d+)s\", \"\\n\".join(lines))\n",
    "mat = re.findall(\"Materialization complete in (?P<time>\\d+\\.\\d+)s\", \"\\n\".join(lines))\n",
    "diff = re.findall(\"Finished calculating diff in (?P<time>\\d+\\.\\d+)s\", \"\\n\".join(lines))\n",
    "concat = re.findall(\"Constructing new graph... OK \\((?P<time>\\d+\\.\\d+)s\\)\", \"\\n\".join(lines))"
   ]
  },
  {
   "cell_type": "code",
   "execution_count": 221,
   "metadata": {},
   "outputs": [],
   "source": [
    "diff_s = '\\n'.join([e for e in diff])\n",
    "mat_s = '\\n'.join([e for e in mat])\n",
    "concat_s = '\\n'.join([e for e in concat])"
   ]
  },
  {
   "cell_type": "code",
   "execution_count": 222,
   "metadata": {},
   "outputs": [
    {
     "name": "stdout",
     "output_type": "stream",
     "text": [
      "28,08\n",
      "14,54\n",
      "14,71\n",
      "27,72\n",
      "14,54\n",
      "14,60\n",
      "28,16\n",
      "14,66\n",
      "14,94\n",
      "28,25\n",
      "14,49\n",
      "14,76\n",
      "28,46\n",
      "14,57\n",
      "14,73\n"
     ]
    }
   ],
   "source": [
    "print(diff_s.replace('.', ','))"
   ]
  },
  {
   "cell_type": "code",
   "execution_count": 223,
   "metadata": {},
   "outputs": [
    {
     "name": "stdout",
     "output_type": "stream",
     "text": [
      "1295,86\n",
      "0,51\n",
      "0,26\n",
      "1348,95\n",
      "0,53\n",
      "0,27\n",
      "1287,76\n",
      "0,48\n",
      "0,27\n",
      "1291,72\n",
      "0,48\n",
      "0,28\n",
      "1287,50\n",
      "0,49\n",
      "0,27\n"
     ]
    }
   ],
   "source": [
    "print(mat_s.replace('.', ','))"
   ]
  },
  {
   "cell_type": "code",
   "execution_count": 224,
   "metadata": {},
   "outputs": [
    {
     "name": "stdout",
     "output_type": "stream",
     "text": [
      "0,00\n",
      "0,00\n",
      "0,00\n",
      "0,00\n",
      "0,00\n",
      "0,00\n",
      "0,00\n",
      "0,00\n",
      "0,00\n",
      "0,00\n"
     ]
    }
   ],
   "source": [
    "print(concat_s.replace('.', ','))"
   ]
  },
  {
   "attachments": {},
   "cell_type": "markdown",
   "metadata": {},
   "source": [
    "---"
   ]
  },
  {
   "cell_type": "code",
   "execution_count": 1,
   "metadata": {},
   "outputs": [],
   "source": [
    "import re"
   ]
  },
  {
   "cell_type": "code",
   "execution_count": 32,
   "metadata": {},
   "outputs": [
    {
     "name": "stdout",
     "output_type": "stream",
     "text": [
      "1373,47\n",
      "1426,58\n",
      "1366,01\n",
      "1369,61\n",
      "1365,54\n"
     ]
    }
   ],
   "source": [
    "with open('test-rdfizer-opt.py-50.out', 'r') as f:\n",
    "    lines = f.readlines()\n",
    "m = re.findall(\"Finished running test in (?P<time>\\d+\\.\\d+)s\", \"\\n\".join(lines))\n",
    "s = '\\n'.join([e for e in m])\n",
    "print(s.replace('.', ','))"
   ]
  },
  {
   "attachments": {},
   "cell_type": "markdown",
   "metadata": {},
   "source": [
    "---"
   ]
  },
  {
   "cell_type": "code",
   "execution_count": 1,
   "metadata": {},
   "outputs": [],
   "source": [
    "import numpy as np\n",
    "import matplotlib.pyplot as plt"
   ]
  },
  {
   "cell_type": "code",
   "execution_count": 2,
   "metadata": {},
   "outputs": [],
   "source": [
    "size1 = np.array([\n",
    "    [[0.082, 2.74, 0], [0.062, 2.546, 0], [0.06, 5.082, 0]],\n",
    "    [[0.07, 2.704, 0], [0.06, 0.828, 0], [0.058, 1.392, 0]],\n",
    "    [[0.068, 2.9, 0], [0.058, 2.7, 0], [0.054, 5.354, 0]],\n",
    "    [[0.07, 2.898, 0], [0.06, 0.856, 0], [0.05, 1.422, 0]],\n",
    "    [[0.08, 1.322, 0], [0.06, 1.058, 0], [0.06, 2.098, 0]],\n",
    "    [[0.07, 1.28, 0], [0.06, 0.262, 0], [0.052, 0.262, 0]]\n",
    "])\n",
    "size5 = np.array([\n",
    "    [[1.78, 97.566, 0], [0.9, 3.806, 0], [0.862, 7.678, 0]],\n",
    "    [[1.792, 96.18, 0], [0.88, 2.128, 0], [0.86, 4.03, 0]],\n",
    "    [[1.214, 99.426, 0], [0.864, 3.892, 0], [0.864, 7.924, 0]],\n",
    "    [[1.212, 98.988, 0], [0.87, 2.136, 0], [0.862, 4.052, 0]],\n",
    "    [[1.842, 125.866, 0], [0.916, 1.048, 0], [0.936, 2.044, 0]],\n",
    "    [[1.802, 123.59, 0], [0.908, 0.24, 0], [0.9, 0.266, 0]]\n",
    "])\n",
    "size10 = np.array([\n",
    "    [[3.95, 196.032, 0], [1.914, 5.236, 0], [1.872, 10.494, 0]],\n",
    "    [[3.954, 194.426, 0], [1.916, 3.618, 0], [1.868, 7.01, 0]],\n",
    "    [[2.806, 199.004, 0], [1.862, 5.296, 0], [1.882, 10.814, 0]],\n",
    "    [[2.808, 200.104, 0], [1.888, 3.568, 0], [1.844, 6.982, 0]],\n",
    "    [[3.916, 246.95, 0], [1.952, 1.074, 0], [1.94, 2.03, 0]],\n",
    "    [[3.998, 247.508, 0], [1.948, 0.26, 0], [1.924, 0.266, 0]]\n",
    "])\n",
    "size25 = np.array([\n",
    "    [[11.042, 503.302, 0], [5.606, 9.044, 0], [5.494, 17.876, 0]],\n",
    "    [[11.054, 502.106, 0], [5.64, 7.42, 0], [5.49, 14.52, 0]],\n",
    "    [[8.14, 517.948, 0], [5.52, 9.172, 0], [5.476, 18.086, 0]],\n",
    "    [[8.236, 513.17, 0], [5.61, 7.502, 0], [5.466, 14.62, 0]],\n",
    "    [[11.408, 630.42, 0], [5.802, 1.152, 0], [5.828, 2.032, 0]],\n",
    "    [[11.186, 634.13, 0], [5.818, 0.348, 0], [5.81, 0.268, 0]]\n",
    "])\n",
    "size50 = np.array([\n",
    "    [[28.558, 1045.208, 0], [14.814, 16.072, 0], [14.444, 31.416, 0]],\n",
    "    [[27.964, 1036.972, 0], [14.234, 14.41, 0], [14.05, 27.614, 0]],\n",
    "    [[26.502, 1075.716, 0], [13.992, 16.35, 0], [13.902, 31.072, 0]],\n",
    "    [[24.13, 1075.916, 0], [14.244, 14.568, 0], [15.222, 28.614, 0]],\n",
    "    [[27.916, 1284.398, 0], [14.742, 1.306, 0], [14.798, 2.024, 0]],\n",
    "    [[28.134, 1302.358, 0], [14.56, 0.498, 0], [14.748, 0.27, 0]]\n",
    "])"
   ]
  },
  {
   "cell_type": "code",
   "execution_count": 9,
   "metadata": {},
   "outputs": [
    {
     "data": {
      "image/png": "[encoded data removed]",
      "text/plain": [
       "<Figure size 1080x432 with 1 Axes>"
      ]
     },
     "metadata": {
      "needs_background": "light"
     },
     "output_type": "display_data"
    }
   ],
   "source": [
    "x = np.arange(3)\n",
    "width = 0.1\n",
    "\n",
    "plt.figure(figsize=(15, 6))\n",
    "\n",
    "ds = size1\n",
    "\n",
    "# morph-disk-no-inc\n",
    "d = ds[0,:,:]\n",
    "plt.bar(x-2*width, d[:,0], width, color='teal', edgecolor='k')\n",
    "plt.bar(x-2*width, d[:,1], width, bottom=d[:,0], color='darksalmon', edgecolor='k')\n",
    "plt.bar(x-2*width, d[:,2], width, bottom=d[:,0]+d[:,1], color='khaki', edgecolor='k')\n",
    "# morph-disk-inc\n",
    "d = ds[1,:,:]\n",
    "plt.bar(x-width, d[:,0], width, color='teal', edgecolor='k')\n",
    "plt.bar(x-width, d[:,1], width, bottom=d[:,0], color='darksalmon', edgecolor='k')\n",
    "plt.bar(x-width, d[:,2], width, bottom=d[:,0]+d[:,1], color='khaki', edgecolor='k')\n",
    "# morph-memory-no-inc\n",
    "d = ds[2,:,:]\n",
    "plt.bar(x, d[:,0], width, color='teal', edgecolor='k')\n",
    "plt.bar(x, d[:,1], width, bottom=d[:,0], color='darksalmon', edgecolor='k')\n",
    "plt.bar(x, d[:,2], width, bottom=d[:,0]+d[:,1], color='khaki', edgecolor='k')\n",
    "# morph-memory-inc\n",
    "d = ds[3,:,:]\n",
    "plt.bar(x+width, d[:,0], width, color='teal', edgecolor='k')\n",
    "plt.bar(x+width, d[:,1], width, bottom=d[:,0], color='darksalmon', edgecolor='k')\n",
    "plt.bar(x+width, d[:,2], width, bottom=d[:,0]+d[:,1], color='khaki', edgecolor='k')\n",
    "# rdfizer-no-inc\n",
    "d = ds[4,:,:]\n",
    "plt.bar(x+2*width, d[:,0], width, color='teal', edgecolor='k')\n",
    "plt.bar(x+2*width, d[:,1], width, bottom=d[:,0], color='darksalmon', edgecolor='k')\n",
    "plt.bar(x+2*width, d[:,2], width, bottom=d[:,0]+d[:,1], color='khaki', edgecolor='k')\n",
    "# rdfizer-inc\n",
    "d = ds[5,:,:]\n",
    "plt.bar(x+3*width, d[:,0], width, color='teal', edgecolor='k')\n",
    "plt.bar(x+3*width, d[:,1], width, bottom=d[:,0], color='darksalmon', edgecolor='k')\n",
    "plt.bar(x+3*width, d[:,2], width, bottom=d[:,0]+d[:,1], color='khaki', edgecolor='k')\n",
    "\n",
    "plt.xticks(np.sort(np.array([x - width, x - 2 * width, x, x + width, x + 2 * width, x + 3 * width]).flatten()),\n",
    "           ['morph-disk-no-opt', 'morph-disk-opt', 'morph-memory-no-opt', 'morph-memory-no-opt', 'rdfizer-no-opt', 'rdfizer-opt']*3, rotation=90)\n",
    "plt.ylabel(\"time\", fontsize=14)\n",
    "plt.yscale('log')\n",
    "ax = plt.gca()\n",
    "ax.set_ylim([None, np.max(ds)*1.2])\n",
    "\n",
    "ax.text(-0.1, 0.0045, 'First Version', style='italic', fontsize=14)\n",
    "ax.text(0.9, 0.0045, 'First Update', style='italic', fontsize=14)\n",
    "ax.text(1.9, 0.0045, 'Second Update', style='italic', fontsize=14)\n",
    "\n",
    "plt.legend(['diff', 'materialize', 'concat'], loc='upper right', fontsize=14)\n",
    "plt.savefig('inc-1.png', bbox_inches = \"tight\")\n",
    "plt.show()"
   ]
  },
  {
   "attachments": {},
   "cell_type": "markdown",
   "metadata": {},
   "source": [
    "---"
   ]
  },
  {
   "cell_type": "code",
   "execution_count": 69,
   "metadata": {},
   "outputs": [],
   "source": [
    "import numpy as np\n",
    "import re"
   ]
  },
  {
   "cell_type": "code",
   "execution_count": 139,
   "metadata": {},
   "outputs": [
    {
     "name": "stdout",
     "output_type": "stream",
     "text": [
      "& diff & 28.134 & 14.56 & 14.748\\\\\n",
      "\t\t\trdfizer-opt & mat & 1302.358 & 0.498 & 0.27\\\\\n",
      "\t\t\t& concat & 0.0 & 0.0 & 0.0\\\\\n"
     ]
    }
   ],
   "source": [
    "name = 'rdfizer-opt'\n",
    "\n",
    "s = \"\"\"28,134\t1302,358\t0\n",
    "14,56\t0,498\t0\n",
    "14,748\t0,27\t0\n",
    "\n",
    "\"\"\"\n",
    "\n",
    "s = s.replace(',', '.')\n",
    "m = re.findall(\"(\\d+(\\.\\d+)?)\", s)\n",
    "arr = np.array([float(e[0]) for e in m]).reshape((3,3)).T\n",
    "res = '& diff & %s\\\\\\\\' % ' & '.join(list(arr[0].astype(str)))\n",
    "res += '\\n\\t\\t\\t%s & mat & %s\\\\\\\\' % (name, ' & '.join(list(arr[1].astype(str))))\n",
    "res += '\\n\\t\\t\\t& concat & %s\\\\\\\\' % ' & '.join(list(arr[2].astype(str)))\n",
    "print(res)"
   ]
  },
  {
   "attachments": {},
   "cell_type": "markdown",
   "metadata": {},
   "source": [
    "---"
   ]
  },
  {
   "cell_type": "code",
   "execution_count": 1,
   "metadata": {},
   "outputs": [],
   "source": [
    "import pandas as pd\n",
    "import numpy as np\n",
    "import matplotlib.pyplot as plt"
   ]
  },
  {
   "cell_type": "code",
   "execution_count": 20,
   "metadata": {},
   "outputs": [],
   "source": [
    "first_update = np.array([\n",
    "    [7.58, 67.99, 7.08, 69.14, 20.26, 76.15],\n",
    "    [95.26, 96.93, 95.27, 97.00, 98.46, 99.08],\n",
    "    [96.42, 97.21, 96.45, 97.31, 98.79, 99.12],\n",
    "    [97.15, 97.45, 97.21, 97.49, 98.92, 99.04],\n",
    "    [97.12, 97.31, 97.25, 97.38, 98.78, 98.87]\n",
    "])\n",
    "second_update = np.array([\n",
    "    [-82.21, 47.73, -82.21, 50.40, -53.92, 76.74],\n",
    "    [91.40, 95.01, 91.27, 95.10, 97.67, 99.07],\n",
    "    [93.82, 95.52, 93.71, 95.65, 98.42, 99.13],\n",
    "    [95.46, 96.10, 95.52, 96.15, 98.78, 99.06],\n",
    "    [95.73, 96.09, 95.92, 96.02, 98.72, 98.87]\n",
    "])"
   ]
  },
  {
   "cell_type": "code",
   "execution_count": 21,
   "metadata": {},
   "outputs": [
    {
     "data": {
      "image/png": "[encoded data removed]",
      "text/plain": [
       "<Figure size 432x288 with 1 Axes>"
      ]
     },
     "metadata": {
      "needs_background": "light"
     },
     "output_type": "display_data"
    }
   ],
   "source": [
    "plt.plot(np.arange(5), second_update, marker='o')\n",
    "plt.xticks(np.arange(5), ['Size 1', 'Size 5', 'Size 10', 'Size 25', 'Size 50'], fontsize=14)\n",
    "plt.ylabel('Speedup (%)', fontsize=14)\n",
    "plt.legend(['morph-disk-no-opt', 'morph-disk-opt', 'morph-memory-no-opt', 'morph-memory-no-opt', 'rdfizer-no-opt', 'rdfizer-opt'], loc='lower right', fontsize=14)\n",
    "plt.savefig('speedup_seconc_update.png', bbox_inches = \"tight\")"
   ]
  },
  {
   "cell_type": "code",
   "execution_count": null,
   "metadata": {},
   "outputs": [],
   "source": []
  }
 ],
 "metadata": {
  "kernelspec": {
   "display_name": "Python 3",
   "language": "python",
   "name": "python3"
  },
  "language_info": {
   "codemirror_mode": {
    "name": "ipython",
    "version": 3
   },
   "file_extension": ".py",
   "mimetype": "text/x-python",
   "name": "python",
   "nbconvert_exporter": "python",
   "pygments_lexer": "ipython3",
   "version": "3.9.0"
  },
  "orig_nbformat": 4
 },
 "nbformat": 4,
 "nbformat_minor": 2
}
