{
 "cells": [
  {
   "attachments": {},
   "cell_type": "markdown",
   "metadata": {},
   "source": [
    "### no-inc"
   ]
  },
  {
   "cell_type": "code",
   "execution_count": 1,
   "metadata": {},
   "outputs": [],
   "source": [
    "import re"
   ]
  },
  {
   "cell_type": "code",
   "execution_count": 115,
   "metadata": {},
   "outputs": [],
   "source": [
    "with open('test-rdfizer-no-inc.py-50.out', 'r') as f:\n",
    "    lines = f.readlines()"
   ]
  },
  {
   "cell_type": "code",
   "execution_count": 116,
   "metadata": {},
   "outputs": [],
   "source": [
    "m = re.findall(\"((Loaded new graph in )|(Finished updating graph in ))(?P<time>\\d+\\.\\d+)s\", \"\\n\".join(lines))"
   ]
  },
  {
   "cell_type": "code",
   "execution_count": 117,
   "metadata": {},
   "outputs": [
    {
     "data": {
      "text/plain": [
       "['1306.37',\n",
       " '1161.43',\n",
       " '1201.62',\n",
       " '1311.21',\n",
       " '1168.32',\n",
       " '1216.10',\n",
       " '1321.49',\n",
       " '1171.80',\n",
       " '1204.13',\n",
       " '1316.16',\n",
       " '1166.17',\n",
       " '1214.27',\n",
       " '1311.14',\n",
       " '1158.56',\n",
       " '1207.97']"
      ]
     },
     "execution_count": 117,
     "metadata": {},
     "output_type": "execute_result"
    }
   ],
   "source": [
    "[e[3] for e in m]"
   ]
  },
  {
   "cell_type": "code",
   "execution_count": 118,
   "metadata": {},
   "outputs": [],
   "source": [
    "s = '\\n'.join([e[3] for e in m])"
   ]
  },
  {
   "cell_type": "code",
   "execution_count": 119,
   "metadata": {},
   "outputs": [
    {
     "name": "stdout",
     "output_type": "stream",
     "text": [
      "1306,37\n",
      "1161,43\n",
      "1201,62\n",
      "1311,21\n",
      "1168,32\n",
      "1216,10\n",
      "1321,49\n",
      "1171,80\n",
      "1204,13\n",
      "1316,16\n",
      "1166,17\n",
      "1214,27\n",
      "1311,14\n",
      "1158,56\n",
      "1207,97\n"
     ]
    }
   ],
   "source": [
    "print(s.replace('.', ','))"
   ]
  },
  {
   "attachments": {},
   "cell_type": "markdown",
   "metadata": {},
   "source": [
    "---"
   ]
  },
  {
   "cell_type": "code",
   "execution_count": 2,
   "metadata": {},
   "outputs": [],
   "source": [
    "import re"
   ]
  },
  {
   "cell_type": "code",
   "execution_count": 49,
   "metadata": {},
   "outputs": [
    {
     "name": "stdout",
     "output_type": "stream",
     "text": [
      "3669,44\n",
      "3695,66\n",
      "3697,44\n",
      "3696,62\n",
      "3677,69\n"
     ]
    }
   ],
   "source": [
    "with open('test-rdfizer-no-inc.py-50.out', 'r') as f:\n",
    "    lines = f.readlines()\n",
    "m = re.findall(\"Finished running test in (?P<time>\\d+\\.\\d+)s\", \"\\n\".join(lines))\n",
    "s = '\\n'.join([e for e in m])\n",
    "print(s.replace('.', ','))"
   ]
  },
  {
   "attachments": {},
   "cell_type": "markdown",
   "metadata": {},
   "source": [
    "---"
   ]
  },
  {
   "cell_type": "code",
   "execution_count": 2,
   "metadata": {},
   "outputs": [],
   "source": [
    "import pandas as pd\n",
    "import numpy as np\n",
    "import matplotlib.pyplot as plt"
   ]
  },
  {
   "cell_type": "code",
   "execution_count": 4,
   "metadata": {},
   "outputs": [],
   "source": [
    "data1 = np.array([\n",
    "    [2.748, 2.694, 2.72],\n",
    "    [2.866, 2.86, 2.87],\n",
    "    [1.248, 1.186, 1.15]\n",
    "])\n",
    "data5 = np.array([\n",
    "    [96.518, 97.168, 108.712],\n",
    "    [98.576, 99.28, 111.064],\n",
    "    [123.93, 108.706, 116.562]\n",
    "])\n",
    "data10 = np.array([\n",
    "    [194.162, 195.954, 219.854],\n",
    "    [197.76, 200.206, 224.904],\n",
    "    [248.13, 217.758, 233.516]\n",
    "])\n",
    "data25 = np.array([\n",
    "    [511.486, 517.502, 592.616],\n",
    "    [519.068, 535.706, 599.354],\n",
    "    [628.928, 591.102, 591.092]\n",
    "])\n",
    "data50 = np.array([\n",
    "    [1054.952, 1064.968, 1203.846],\n",
    "    [1074.118, 1086.02, 1232.578],\n",
    "    [1313.274, 1165.256, 1208.818]\n",
    "])"
   ]
  },
  {
   "cell_type": "code",
   "execution_count": 20,
   "metadata": {},
   "outputs": [
    {
     "data": {
      "image/png": "[encoded data removed]",
      "text/plain": [
       "<Figure size 432x288 with 1 Axes>"
      ]
     },
     "metadata": {
      "needs_background": "light"
     },
     "output_type": "display_data"
    }
   ],
   "source": [
    "x = np.arange(3)\n",
    "width = 0.2\n",
    "\n",
    "data = data50\n",
    "# plot data in grouped manner of bar type\n",
    "plt.bar(x-width, data[0], width, color='indianred', edgecolor='k')\n",
    "plt.bar(x, data[1], width, color='sandybrown', edgecolor='k')\n",
    "plt.bar(x+width, data[2], width, color='yellowgreen', edgecolor='k')\n",
    "plt.xticks(x, ['First Upload', 'First Update', 'Second Update'], fontsize=14)\n",
    "plt.ylabel(\"time\", fontsize=14)\n",
    "plt.legend(['morph-disk', 'morph-memory', 'rdfizer'], loc='upper right')\n",
    "plt.savefig('no-inc-50.png', bbox_inches = \"tight\")\n",
    "plt.show()"
   ]
  },
  {
   "cell_type": "code",
   "execution_count": null,
   "metadata": {},
   "outputs": [],
   "source": []
  }
 ],
 "metadata": {
  "kernelspec": {
   "display_name": "Python 3",
   "language": "python",
   "name": "python3"
  },
  "language_info": {
   "codemirror_mode": {
    "name": "ipython",
    "version": 3
   },
   "file_extension": ".py",
   "mimetype": "text/x-python",
   "name": "python",
   "nbconvert_exporter": "python",
   "pygments_lexer": "ipython3",
   "version": "3.9.0"
  },
  "orig_nbformat": 4
 },
 "nbformat": 4,
 "nbformat_minor": 2
}
